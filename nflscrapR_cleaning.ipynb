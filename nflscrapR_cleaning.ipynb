{
 "cells": [
  {
   "cell_type": "code",
   "execution_count": null,
   "metadata": {},
   "outputs": [],
   "source": [
    "import pandas as pd\n",
    "import numpy as np\n",
    "import os"
   ]
  },
  {
   "cell_type": "code",
   "execution_count": null,
   "metadata": {},
   "outputs": [],
   "source": [
    "pd.options.mode.chained_assignment = None"
   ]
  },
  {
   "cell_type": "code",
   "execution_count": null,
   "metadata": {},
   "outputs": [],
   "source": [
    "YEAR = 2019"
   ]
  },
  {
   "cell_type": "code",
   "execution_count": null,
   "metadata": {},
   "outputs": [],
   "source": [
    "#Can import from link or set to file path of a CSV\n",
    "pbp_data = pd.read_csv('https://raw.githubusercontent.com/' + \\\n",
    "                       'ryurko/nflscrapR-data/master/' + \\\n",
    "                       'play_by_play_data/regular_season/reg_pbp_' + str(YEAR) + '.csv',\n",
    "                       low_memory=False)"
   ]
  },
  {
   "cell_type": "code",
   "execution_count": null,
   "metadata": {},
   "outputs": [],
   "source": [
    "#Import week and season info\n",
    "game_info = pd.read_csv('http://www.habitatring.com/games.csv')[['game_id','week','season']]"
   ]
  },
  {
   "cell_type": "code",
   "execution_count": null,
   "metadata": {},
   "outputs": [],
   "source": [
    "#Filter out plays where EPA is null\n",
    "#Only leave plays with type no_play,pass,run\n",
    "pbp_data = pbp_data.loc[(pbp_data.play_type.isin(['no_play','pass','run'])) &\n",
    "                        (pbp_data.epa.isna()==False)]"
   ]
  },
  {
   "cell_type": "code",
   "execution_count": null,
   "metadata": {},
   "outputs": [],
   "source": [
    "#Insert columns to show dropback or rush play\n",
    "#Default value 0\n",
    "pbp_data.insert(0,'dropback',0)\n",
    "pbp_data.insert(0,'rush',0)\n",
    "\n",
    "#Change value to 1 if dropback or rush\n",
    "#Space between pipe | and 'pass' is to avoid player with 'pass' in his last name\n",
    "#throwing off detection\n",
    "pbp_data.dropback.loc[pbp_data.desc.str.contains(' pass|sacked|scrambles')] = 1\n",
    "\n",
    "pbp_data.rush.loc[(pbp_data.desc.str.contains('left end|left tackle|left guard|up the middle|' + \\\n",
    "                                              'right guard|right tackle|right end')) &\n",
    "                  (pbp_data.dropback==0)] = 1"
   ]
  },
  {
   "cell_type": "code",
   "execution_count": null,
   "metadata": {},
   "outputs": [],
   "source": [
    "#Insert success column\n",
    "#Success defined as a play with EPA > 0\n",
    "pbp_data.insert(0,'success',0)\n",
    "\n",
    "pbp_data.success.loc[pbp_data.epa>0] = 1"
   ]
  },
  {
   "cell_type": "code",
   "execution_count": null,
   "metadata": {},
   "outputs": [],
   "source": [
    "#Mark interceptions as also being incomplete passes\n",
    "pbp_data.incomplete_pass.loc[pbp_data.interception==1] = 1"
   ]
  },
  {
   "cell_type": "code",
   "execution_count": null,
   "metadata": {},
   "outputs": [],
   "source": [
    "#Mark yards gained as null for plays with penalties\n",
    "pbp_data.yards_gained.loc[pbp_data.play_type=='no_play'] = np.nan"
   ]
  },
  {
   "cell_type": "code",
   "execution_count": null,
   "metadata": {},
   "outputs": [],
   "source": [
    "#Reset index inplace\n",
    "pbp_data.reset_index(drop=True,inplace=True)"
   ]
  },
  {
   "cell_type": "code",
   "execution_count": null,
   "metadata": {},
   "outputs": [],
   "source": [
    "#Merge play by play with game info\n",
    "#This will add week and season info\n",
    "pbp_data = pbp_data.merge(game_info,left_on='game_id',right_on='game_id')"
   ]
  },
  {
   "cell_type": "code",
   "execution_count": null,
   "metadata": {},
   "outputs": [],
   "source": [
    "#Fill in missing player date\n",
    "#Make list of plays with missing passers\n",
    "missing_passers = pbp_data.loc[(pbp_data.play_type=='no_play') & \n",
    "                               (pbp_data.dropback==1)].index\n",
    "\n",
    "#Go through each play with missing passer name\n",
    "for i in missing_passers:\n",
    "    #Split string on spaces \n",
    "    desc = pbp_data.desc.loc[i].split()\n",
    "    \n",
    "    #Search each word of the description\n",
    "    for j in range(0,len(desc)):\n",
    "        #Attach suffix to abbreviated player name\n",
    "        if desc[j] in ('Jr','Jr.','Sr','Sr.','II','III','IV'):\n",
    "            desc[j] = desc[j-1] + ' ' + desc[j] \n",
    "            \n",
    "        #Passer name comes before pass, scramble, or sack\n",
    "        if desc[j] in ('pass','scrambles','sacked'):\n",
    "            pbp_data.passer_player_name.loc[i] = desc[j-1]\n",
    "            break"
   ]
  },
  {
   "cell_type": "code",
   "execution_count": null,
   "metadata": {},
   "outputs": [],
   "source": [
    "#Repeat process for receivers\n",
    "#Make list of plays with missing receivers\n",
    "missing_receivers = pbp_data.loc[(pbp_data.play_type=='no_play') & \n",
    "                                 (pbp_data.dropback==1) &\n",
    "                                 (pbp_data.desc.str.contains(' pass')) &\n",
    "                                 (pbp_data.penalty==0)].index\n",
    "\n",
    "#Go through each play with missing receiver name\n",
    "for i in missing_receivers:\n",
    "    #Split string on spaces \n",
    "    desc = pbp_data.desc.loc[i].split()\n",
    "    \n",
    "    #Search each word of the description\n",
    "    for j in range(0,len(desc)):\n",
    "        #Attach suffix to abbreviated player name\n",
    "        if desc[j] in ('Jr','Jr.','Sr','Sr.','II','III','IV'):\n",
    "            desc[j] = desc[j-1] + ' ' + desc[j] \n",
    "    \n",
    "    for k in range(0,len(desc)):\n",
    "        #Receiver name comes after 'to'\n",
    "        if desc[k] == 'to':\n",
    "            pbp_data.receiver_player_name.loc[i] = desc[k+1]\n",
    "            break\n",
    "            \n",
    "        elif desc[k] == 'intended':\n",
    "            pbp_data.receiver_player_name.loc[i] = desc[k+2]\n",
    "            break"
   ]
  },
  {
   "cell_type": "code",
   "execution_count": null,
   "metadata": {},
   "outputs": [],
   "source": [
    "#Repeat process for rushers\n",
    "#Make list of plays with missing rushers\n",
    "missing_rushers = pbp_data.loc[(pbp_data.play_type=='no_play') & \n",
    "                               (pbp_data.rush==1)].index\n",
    "\n",
    "#Go through each play with missing rusher name\n",
    "for i in missing_rushers:\n",
    "    #Split string on spaces \n",
    "    desc = pbp_data.desc.loc[i].split()\n",
    "    \n",
    "    #Search each word of the description\n",
    "    for j in range(0,len(desc)):\n",
    "        #Attach suffix to abbreviated player name\n",
    "        if desc[j] in ('Jr','Jr.','Sr','Sr.','II','III','IV'):\n",
    "            desc[j] = desc[j-1] + ' ' + desc[j] \n",
    "        #Passer name comes before pass, scramble, or sack\n",
    "        if desc[j] in ('left','up','right'):\n",
    "            pbp_data.rusher_player_name.loc[i] = desc[j-1]\n",
    "            break"
   ]
  },
  {
   "cell_type": "code",
   "execution_count": null,
   "metadata": {},
   "outputs": [],
   "source": [
    "#Remove incorrect periods at end of names\n",
    "#Don't include names ending in Jr. or Sr.\n",
    "pbp_data.receiver_player_name.loc[\n",
    "    (pbp_data.receiver_player_name.str[-3:].isin(['Jr.','Sr.'])==False) &\n",
    "    (pbp_data.receiver_player_name.str[-1]=='.')] = pbp_data.receiver_player_name.str[:-1]"
   ]
  },
  {
   "cell_type": "code",
   "execution_count": null,
   "metadata": {},
   "outputs": [],
   "source": [
    "#Correct name discrepancy\n",
    "pbp_data.passer_player_name.loc[pbp_data.passer_player_name=='G.Minshew II'] = 'G.Minshew'\n",
    "pbp_data.rusher_player_name.loc[pbp_data.rusher_player_name=='G.Minshew II'] = 'G.Minshew'\n",
    "pbp_data.receiver_player_name.loc[pbp_data.receiver_player_name=='G.Minshew II'] = 'G.Minshew'\n",
    "\n",
    "pbp_data.passer_player_name.loc[pbp_data.passer_player_name=='D.Chark Jr.'] = 'D.Chark'\n",
    "pbp_data.rusher_player_name.loc[pbp_data.rusher_player_name=='D.Chark Jr.'] = 'D.Chark'\n",
    "pbp_data.receiver_player_name.loc[pbp_data.receiver_player_name=='D.Chark Jr.'] = 'D.Chark'"
   ]
  },
  {
   "cell_type": "code",
   "execution_count": null,
   "metadata": {},
   "outputs": [],
   "source": [
    "#Optional change play_type to match dropback==1 or rush==1\n",
    "#Retains original naming scheme of pass or run rather than dropback or rush\n",
    "pbp_data.play_type.loc[pbp_data.dropback==1] = 'pass'\n",
    "pbp_data.play_type.loc[pbp_data.rush==1] = 'run'"
   ]
  },
  {
   "cell_type": "code",
   "execution_count": null,
   "metadata": {},
   "outputs": [],
   "source": [
    "#Change team abbreviations in older seasons\n",
    "#STL to LA, SD to LAC, JAC to JAX\n",
    "pbp_data.loc[(pbp_data.posteam=='STL')|(pbp_data.defteam=='STL')|\n",
    "             (pbp_data.home_team=='STL')|(pbp_data.away_team=='STL')|\n",
    "             (pbp_data.penalty_team=='STL')] = 'LA'\n",
    "\n",
    "pbp_data.loc[(pbp_data.posteam=='SD')|(pbp_data.defteam=='SD')|\n",
    "             (pbp_data.home_team=='SD')|(pbp_data.away_team=='SD')|\n",
    "             (pbp_data.penalty_team=='SD')] = 'LAC'\n",
    "\n",
    "pbp_data.loc[(pbp_data.posteam=='JAC')|(pbp_data.defteam=='JAC')|\n",
    "             (pbp_data.home_team=='JAC')|(pbp_data.away_team=='JAC')|\n",
    "             (pbp_data.penalty_team=='JAC')] = 'JAX'"
   ]
  },
  {
   "cell_type": "code",
   "execution_count": null,
   "metadata": {},
   "outputs": [],
   "source": [
    "#Alphabetize columns\n",
    "pbp_data.sort_index(axis=1,inplace=True)"
   ]
  },
  {
   "cell_type": "code",
   "execution_count": null,
   "metadata": {},
   "outputs": [],
   "source": [
    "#Set path/file name to output cleaned CSV\n",
    "pbp_data.to_csv('cleaned_pbp_data_' + str(YEAR) + '.csv',index=False)"
   ]
  },
  {
   "cell_type": "code",
   "execution_count": null,
   "metadata": {},
   "outputs": [],
   "source": []
  }
 ],
 "metadata": {
  "kernelspec": {
   "display_name": "Python 3",
   "language": "python",
   "name": "python3"
  },
  "language_info": {
   "codemirror_mode": {
    "name": "ipython",
    "version": 3
   },
   "file_extension": ".py",
   "mimetype": "text/x-python",
   "name": "python",
   "nbconvert_exporter": "python",
   "pygments_lexer": "ipython3",
   "version": "3.7.4"
  }
 },
 "nbformat": 4,
 "nbformat_minor": 2
}
