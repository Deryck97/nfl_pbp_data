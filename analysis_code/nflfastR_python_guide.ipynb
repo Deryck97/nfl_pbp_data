{
 "cells": [
  {
   "cell_type": "code",
   "execution_count": null,
   "metadata": {},
   "outputs": [],
   "source": [
    "import pandas as pd"
   ]
  },
  {
   "cell_type": "code",
   "execution_count": null,
   "metadata": {},
   "outputs": [],
   "source": [
    "#Reading in data\n",
    "YEAR = 2020\n",
    "\n",
    "data = pd.read_csv('https://github.com/guga31bb/nflfastR-data/blob/master/data/' \\\n",
    "                         'play_by_play_' + str(YEAR) + '.csv.gz?raw=True',\n",
    "                         compression='gzip', low_memory=False)"
   ]
  },
  {
   "cell_type": "code",
   "execution_count": null,
   "metadata": {},
   "outputs": [],
   "source": [
    "pd.set_option('display.max_rows', 100)\n",
    "pd.set_option('display.max_columns', 400)"
   ]
  },
  {
   "cell_type": "code",
   "execution_count": null,
   "metadata": {},
   "outputs": [],
   "source": [
    "#Cleaning data\n",
    "data = data.loc[data.season_type=='REG']\n",
    "\n",
    "data = data.loc[(data.play_type.isin(['no_play','pass','run'])) & (data.epa.isna()==False)]\n",
    "\n",
    "data.loc[data['pass']==1, 'play_type'] = 'pass'\n",
    "data.loc[data.rush==1, 'play_type'] = 'run'\n",
    "\n",
    "data.reset_index(drop=True, inplace=True)"
   ]
  },
  {
   "cell_type": "code",
   "execution_count": null,
   "metadata": {
    "scrolled": true
   },
   "outputs": [],
   "source": [
    "#Filtering data example 1\n",
    "data.loc[(data.down<3) & (data.rush==1)]"
   ]
  },
  {
   "cell_type": "code",
   "execution_count": null,
   "metadata": {
    "scrolled": true
   },
   "outputs": [],
   "source": [
    "#Filtering data example 2\n",
    "data.loc[data.posteam=='SEA']"
   ]
  },
  {
   "cell_type": "code",
   "execution_count": null,
   "metadata": {},
   "outputs": [],
   "source": [
    "#Grouping data\n",
    "data.groupby('posteam')[['epa']].mean()"
   ]
  },
  {
   "cell_type": "code",
   "execution_count": null,
   "metadata": {},
   "outputs": [],
   "source": [
    "#Using agg() function\n",
    "data.groupby(['rusher','posteam'], as_index=False).agg({'rushing_yards':'mean', \n",
    "                                                        'play_id':'count',\n",
    "                                                        'epa':'sum'})"
   ]
  },
  {
   "cell_type": "code",
   "execution_count": null,
   "metadata": {},
   "outputs": [],
   "source": [
    "#Finding a specific game\n",
    "data.loc[(data.home_team=='ARI') & (data.away_team=='SEA')]"
   ]
  },
  {
   "cell_type": "code",
   "execution_count": null,
   "metadata": {},
   "outputs": [],
   "source": [
    "#Example analysis\n",
    "qbs = data.groupby(['passer','posteam'], as_index=False).agg({'qb_epa':'mean',\n",
    "                                                              'cpoe':'mean',\n",
    "                                                              'play_id':'count'})\n",
    "\n",
    "qbs = qbs.loc[qbs.play_id>199]\n",
    "\n",
    "#Sort in descending order by EPA \n",
    "qbs.sort_values('qb_epa', ascending=False, inplace=True)\n",
    "\n",
    "#Round to two decimal places where appropriate\n",
    "qbs = qbs.round(2)\n",
    "\n",
    "#Rename columns\n",
    "qbs.columns = ['Player','Team','EPA per Dropback','CPOE','Dropbacks']"
   ]
  },
  {
   "cell_type": "code",
   "execution_count": null,
   "metadata": {},
   "outputs": [],
   "source": [
    "qbs"
   ]
  },
  {
   "cell_type": "code",
   "execution_count": null,
   "metadata": {},
   "outputs": [],
   "source": [
    "import matplotlib.pyplot as plt"
   ]
  },
  {
   "cell_type": "code",
   "execution_count": null,
   "metadata": {},
   "outputs": [],
   "source": [
    "rush_epa = data.epa.loc[data.play_type=='run']\n",
    "pass_epa = data.epa.loc[data.play_type=='pass']"
   ]
  },
  {
   "cell_type": "code",
   "execution_count": null,
   "metadata": {},
   "outputs": [],
   "source": [
    "#Create figure and enter in a figsize\n",
    "plt.figure(figsize=(12,8))\n",
    "\n",
    "#Place a histogram on the figure with the EPA of all pass plays\n",
    "#Bins are how many groupings or buckets the data will be split into\n",
    "#Assign a label for the legend and choose a color\n",
    "plt.hist(pass_epa, bins=25, label='Pass', color='slategrey')\n",
    "\n",
    "#Place a second histogram this time for rush plays, \n",
    "#The alpha < 1 will make this somewhat transparent\n",
    "plt.hist(rush_epa, bins=25, label='Run', alpha=.7, color='lime')\n",
    "\n",
    "#Add labels and title\n",
    "plt.xlabel('Expected Points Added',fontsize=12)\n",
    "plt.ylabel('Number of Plays',fontsize=12)\n",
    "plt.title('EPA Distribution Based on Play Type',fontsize=14)\n",
    "\n",
    "#Add source, the first two numbers are x and y \n",
    "#coordinates as a decimal of the whole image\n",
    "plt.figtext(.8,.04,'Data: nflfastR', fontsize=10)\n",
    "\n",
    "#Add a legend\n",
    "plt.legend()\n",
    "\n",
    "#Save the figure as a png\n",
    "plt.savefig('epa_dist.png', dpi=400)"
   ]
  },
  {
   "cell_type": "code",
   "execution_count": null,
   "metadata": {},
   "outputs": [],
   "source": [
    "#Create dataframe of just plays in neutral situations\n",
    "neutral_situation = data.loc[(data.down<3) & (data.half_seconds_remaining>120) &\n",
    "                             (data.wp>=.2) & (data.wp<=.8)]\n",
    "                             \n",
    "#Groupby team game, taking the average of the 'pass' column\n",
    "#Pass column = 1 when the play call is a pass and 0 when the play call is a run\n",
    "pass_rates = neutral_situation.groupby(['game_id','posteam'])[['pass']].mean()\n",
    "\n",
    "#Add a new column to pass rates dataframe for the EPA per dropback\n",
    "#Filter to pass plays and groupby the same game_id and posteam\n",
    "pass_rates['epa'] = neutral_situation.loc[neutral_situation['pass']==1].groupby(\n",
    "    ['game_id','posteam'])[['epa']].mean()\n",
    "\n",
    "pass_rates.reset_index(inplace=True)"
   ]
  },
  {
   "cell_type": "code",
   "execution_count": null,
   "metadata": {},
   "outputs": [],
   "source": [
    "x = pass_rates['pass']\n",
    "y = pass_rates.epa"
   ]
  },
  {
   "cell_type": "code",
   "execution_count": null,
   "metadata": {},
   "outputs": [],
   "source": [
    "import numpy as np"
   ]
  },
  {
   "cell_type": "code",
   "execution_count": null,
   "metadata": {},
   "outputs": [],
   "source": [
    "#Create figure and enter in a figsize\n",
    "plt.figure(figsize=(10,10))\n",
    "\n",
    "#Make a scatter plot with neutral situation pass rate on the x-axis, EPA per dropback on the y\n",
    "plt.scatter(x, y, alpha=.7, color='turquoise')\n",
    "\n",
    "#Create line of best fit\n",
    "#Linestyle gives a dashed line\n",
    "plt.plot(np.unique(x), np.poly1d(np.polyfit(x, y, 1))(np.unique(x)), \n",
    "         color='grey', linestyle='--')\n",
    "\n",
    "#Add grid lines\n",
    "plt.grid(zorder=0,alpha=.4)\n",
    "\n",
    "#Add labels and title\n",
    "plt.xlabel('Neutral Situation Pass Rate',fontsize=12)\n",
    "plt.ylabel('EPA per Dropback',fontsize=12)\n",
    "plt.title('Neutral Situation Pass Rate and EPA per Dropback \\n' \\\n",
    "          '1st & 2nd Down, WP between 20-80%, Outside of Two Minute Warnings',fontsize=14)\n",
    "\n",
    "#Add source, the first two numbers are x and y \n",
    "#coordinates as a decimal of the whole image\n",
    "plt.figtext(.79,.05,'Data: nflfastR', fontsize=10)\n",
    "\n",
    "#Save the figure as a png\n",
    "plt.savefig('ns_rates.png', dpi=400)"
   ]
  },
  {
   "cell_type": "code",
   "execution_count": null,
   "metadata": {},
   "outputs": [],
   "source": [
    "import os\n",
    "import urllib.request\n",
    "from matplotlib.offsetbox import OffsetImage, AnnotationBbox"
   ]
  },
  {
   "cell_type": "code",
   "execution_count": null,
   "metadata": {},
   "outputs": [],
   "source": [
    "#Skipping the downloading of logos"
   ]
  },
  {
   "cell_type": "code",
   "execution_count": null,
   "metadata": {},
   "outputs": [],
   "source": [
    "def getImage(path): \n",
    "    return OffsetImage(plt.imread(path), zoom=.5)\n",
    "\n",
    "logos = os.listdir(os.getcwd() + '/FOLDER')\n",
    "\n",
    "logo_paths = []\n",
    "\n",
    "for i in logos:\n",
    "    logo_paths.append(os.getcwd() + '/FOLDER/' + str(i))"
   ]
  },
  {
   "cell_type": "code",
   "execution_count": null,
   "metadata": {},
   "outputs": [],
   "source": [
    "#Filter to pass plays and groupby offensive team\n",
    "team_epa = data.loc[data['pass']==1].groupby('posteam')[['epa']].mean()\n",
    "\n",
    "#Do the same but for rushing plays\n",
    "team_epa['rush_epa'] = data.loc[data.rush==1].groupby('posteam')[['epa']].mean()\n",
    "\n",
    "#Define x and y\n",
    "x = team_epa.rush_epa\n",
    "y = team_epa.epa\n",
    "\n",
    "#Create a figure with size 12x12\n",
    "fig, ax = plt.subplots(figsize=(15,15))\n",
    "\n",
    "#Make a scatter plot first to get the points to place logos\n",
    "ax.scatter(x, y, s=.001)\n",
    "\n",
    "#Adding logos to the chart\n",
    "for x0, y0, path in zip(x, y, logo_paths):\n",
    "    ab = AnnotationBbox(getImage(path), (x0, y0), frameon=False, fontsize=4)\n",
    "    ax.add_artist(ab)\n",
    "    \n",
    "#Add a grid\n",
    "ax.grid(zorder=0,alpha=.4)\n",
    "ax.set_axisbelow(True)\n",
    "    \n",
    "#Adding labels and text\n",
    "ax.set_xlabel('EPA per Rush', fontsize=16)\n",
    "ax.set_ylabel('EPA per Dropback', fontsize=16)\n",
    "ax.set_title('Avg. EPA by Team & Play Type - 2019', fontsize=20)\n",
    "plt.figtext(.81, .07, 'Data: nflfastR', fontsize=12)\n",
    "\n",
    "#Save the figure as a png\n",
    "plt.savefig('team_epas.png', dpi=400)"
   ]
  },
  {
   "cell_type": "code",
   "execution_count": null,
   "metadata": {},
   "outputs": [],
   "source": [
    "COLORS = {'ARI':'#97233F','ATL':'#A71930','BAL':'#241773','BUF':'#00338D','CAR':'#0085CA','CHI':'#00143F',\n",
    "          'CIN':'#FB4F14','CLE':'#FB4F14','DAL':'#B0B7BC','DEN':'#002244','DET':'#046EB4','GB':'#24423C',\n",
    "          'HOU':'#C9243F','IND':'#003D79','JAX':'#136677','KC':'#CA2430','LA':'#002147','LAC':'#2072BA',\n",
    "          'LV':'#C4C9CC','MIA':'#0091A0','MIN':'#4F2E84','NE':'#0A2342','NO':'#A08A58','NYG':'#192E6C',\n",
    "          'NYJ':'#203731','PHI':'#014A53','PIT':'#FFC20E','SEA':'#7AC142','SF':'#C9243F','TB':'#D40909',\n",
    "          'TEN':'#4095D1','WAS':'#FFC20F'}"
   ]
  },
  {
   "cell_type": "code",
   "execution_count": null,
   "metadata": {},
   "outputs": [],
   "source": [
    "neutral_plays = data.loc[(data.home_wp<=.8) & \n",
    "                         (data.away_wp<=.8) & \n",
    "                         (data.half_seconds_remaining>120) & \n",
    "                         (data.down<3)]"
   ]
  },
  {
   "cell_type": "code",
   "execution_count": null,
   "metadata": {},
   "outputs": [],
   "source": [
    "neutral_teams = neutral_plays.groupby('posteam')[['pass']].mean()\n",
    "\n",
    "neutral_teams['color'] = COLORS.values()\n",
    "\n",
    "neutral_teams['path'] = logo_paths\n",
    "\n",
    "#Sort highest to lowest so bar chart is left to right - high to low\n",
    "neutral_teams.sort_values('pass',ascending=False,inplace=True)"
   ]
  },
  {
   "cell_type": "code",
   "execution_count": null,
   "metadata": {},
   "outputs": [],
   "source": [
    "fig, ax = plt.subplots(figsize=(30,10))\n",
    "\n",
    "#Create league average line\n",
    "ax.axhline(y=neutral_plays['pass'].mean(), linestyle='--', color='black')\n",
    "\n",
    "#Add team logos\n",
    "for x0, y0, path in zip(np.arange(0,32), neutral_teams['pass']+.005, neutral_teams['path']):\n",
    "    ab = AnnotationBbox(getImage(path), (x0, y0), frameon=False, fontsize=4)\n",
    "    ax.add_artist(ab)\n",
    "\n",
    "#Add bar chart, x axis is an array from 0-31 (length of 32, one per team)\n",
    "ax.bar(np.arange(0,32), neutral_teams['pass'], color=neutral_teams.color, width=.5)\n",
    "    \n",
    "#Add a grid across the y-axis\n",
    "ax.grid(zorder=0,alpha=.6,axis='y')\n",
    "ax.set_axisbelow(True)\n",
    "ax.set_xticks(np.arange(0,32))\n",
    "#Add team abbreviations as x tick labels\n",
    "ax.set_xticklabels(neutral_teams.index,fontsize=16)\n",
    "\n",
    "#Start y-axis at .3 (30%) to eliminate wasted space\n",
    "ax.set_ylim(.3,.7)\n",
    "ax.set_yticks([.3,.4,.5,.6,.7])\n",
    "ax.set_yticklabels([0.3,0.4,0.5,0.6,0.7],fontsize=16)\n",
    "\n",
    "ax.set_ylabel('Pass Rate', fontsize=20, labelpad=20)\n",
    "ax.set_title('Neutral Situation Pass Rates - 2020', fontsize=26, pad=20)\n",
    "plt.figtext(.845, .04, 'Data: nflfastR', fontsize=14)\n",
    "plt.text(31, neutral_plays['pass'].mean()+.005, 'NFL Average', fontsize=12)\n",
    "\n",
    "plt.savefig('neutral_pass_rates.png',dpi=300)"
   ]
  },
  {
   "cell_type": "code",
   "execution_count": null,
   "metadata": {},
   "outputs": [],
   "source": [
    "from adjustText import adjust_text"
   ]
  },
  {
   "cell_type": "code",
   "execution_count": null,
   "metadata": {},
   "outputs": [],
   "source": [
    "#Create QBs dataframe with avg epa, avg cpoe, and number of plays\n",
    "qbs = data.groupby(['passer','posteam'], as_index=False).agg({'qb_epa':'mean',\n",
    "                                                              'cpoe':'mean',\n",
    "                                                              'play_id':'count'})\n",
    "\n",
    "#Set minimum limit of 200 dropbacks\n",
    "qbs = qbs.loc[qbs.play_id>200]\n",
    "\n",
    "qbs['color'] = qbs.posteam.map(COLORS)\n",
    "\n",
    "fig, ax = plt.subplots(figsize=(15,15))\n",
    "\n",
    "#Create vertical and horizontal lines for averages of each metric\n",
    "ax.axvline(x=qbs.cpoe.mean(), linestyle='--', alpha=.5, color='black')\n",
    "ax.axhline(y=qbs.qb_epa.mean(), linestyle='--', alpha=.5, color='black')\n",
    "\n",
    "#Create scatter plot\n",
    "#s stands for size, the dot size is proportional to the QBs number of plays\n",
    "ax.scatter(qbs.cpoe, qbs.qb_epa, \n",
    "           s=qbs.play_id, \n",
    "           alpha=.7, \n",
    "           color=qbs.color)\n",
    "\n",
    "#Add text to each dot\n",
    "texts = [plt.text(x0,y0,name,ha='right',va='bottom') for x0,y0,name in zip(\n",
    "    qbs.cpoe, qbs.qb_epa, qbs.passer)]\n",
    "\n",
    "adjust_text(texts)\n",
    "\n",
    "#Add grid\n",
    "ax.grid(zorder=0,alpha=.4)\n",
    "ax.set_axisbelow(True)\n",
    "\n",
    "#Remove top and right boundary lines\n",
    "ax.spines['right'].set_visible(False)\n",
    "ax.spines['top'].set_visible(False)\n",
    "\n",
    "#Add title, labels, and source\n",
    "ax.set_title('CPOE & EPA - 2020',fontsize=20,pad=15)\n",
    "ax.set_xlabel('Completion % Over Expected (CPOE)',fontsize=16,labelpad=15)\n",
    "ax.set_ylabel('EPA per Attempt',fontsize=16,labelpad=15)\n",
    "plt.figtext(.8,.06,'Data: nflfastR',fontsize=12)\n",
    "\n",
    "#Save figure\n",
    "plt.savefig('CPOEepa.png',dpi=400)"
   ]
  },
  {
   "cell_type": "code",
   "execution_count": null,
   "metadata": {},
   "outputs": [],
   "source": []
  }
 ],
 "metadata": {
  "kernelspec": {
   "display_name": "Python 3",
   "language": "python",
   "name": "python3"
  },
  "language_info": {
   "codemirror_mode": {
    "name": "ipython",
    "version": 3
   },
   "file_extension": ".py",
   "mimetype": "text/x-python",
   "name": "python",
   "nbconvert_exporter": "python",
   "pygments_lexer": "ipython3",
   "version": "3.7.4"
  }
 },
 "nbformat": 4,
 "nbformat_minor": 2
}
